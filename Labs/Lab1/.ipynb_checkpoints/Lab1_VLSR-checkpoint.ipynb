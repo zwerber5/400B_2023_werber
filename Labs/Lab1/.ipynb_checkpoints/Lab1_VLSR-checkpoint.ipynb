{
 "cells": [
  {
   "cell_type": "markdown",
   "metadata": {},
   "source": [
    "# In Class Lab 1\n",
    "\n",
    "### Due by 5 PM Jan 31st in your github repository 'Labs/Lab1' folder\n",
    "\n",
    "## Part A:  The Local Standard of Rest\n",
    "Proper motion of Sgr A* from Reid & Brunthaler 2004\n",
    "$\\mu = 6.379$ mas/yr \n",
    "\n",
    "Peculiar motion of the sun, $v_\\odot$ = 12.24 km/s  (Schonrich 2010)\n",
    "\n",
    "\n",
    "$v_{tan} = 4.74 \\frac{\\mu}{\\rm mas/yr} \\frac{R_o}{\\rm kpc} = V_{LSR} + v_\\odot$\n",
    "\n",
    "\n",
    "### a)\n",
    "\n",
    "Create a function called VLSR to compute the local standard of res (V$_{LSR}$).\n",
    "\n",
    "The function should take as input: the solar radius (R$_o$), the proper motion (mu)\n",
    "and the peculiar motion of the sun in the $v_\\odot$ direction.\n",
    "\n",
    "Compute V$_{LSR}$ using three different values R$_o$: \n",
    "1. Water Maser Distance for the Sun :  R$_o$ = 8.34 kpc   (Reid 2014 ApJ 783) \n",
    "2. GRAVITY Collaboration Distance for the Sun:  R$_o$ = 8.178 kpc   (Abuter+2019 A&A 625)\n",
    "3. Value for Distance to Sun listed in Sparke & Gallagher : R$_o$ = 7.9 kpc \n"
   ]
  },
  {
   "cell_type": "code",
   "execution_count": 1,
   "metadata": {},
   "outputs": [],
   "source": [
    "# Import Modules \n",
    "import numpy as np # import numpy\n",
    "import astropy.units as u # import astropy units\n",
    "from astropy import constants as const # import astropy constants"
   ]
  },
  {
   "cell_type": "code",
   "execution_count": 2,
   "metadata": {},
   "outputs": [],
   "source": [
    "def VLSR(R_solar,mu=6.379,v_pec=12.24*u.km/u.s):\n",
    "    '''\n",
    "    This function will compute the velocity at the local standard of rest\n",
    "                VLSR=4.74*mu*R0 - vsun\n",
    "    Inputs:\n",
    "        R_solar: 'astropy quantity'\n",
    "                 Distance from the sun to the Galactic Center in kpc\n",
    "        mu: \"float\"\n",
    "            proper motion of SagA* in mas/yr. \n",
    "            default is from Reid and Brunthaler 2004\n",
    "        vsun: 'astropy quantity'\n",
    "                Peculiar motion of the Sun in the v direction (km/s)\n",
    "                default is from Schonrich 2010\n",
    "    Output:\n",
    "        VLSR: 'astropy quantity'\n",
    "            Velocity of the local standard of rest (km/s)\n",
    "    '''\n",
    "    v_tan= 4.74*mu*R_solar/u.kpc #tangential velo in units of km/s\n",
    "    v_LSR=(v_tan*u.km/u.s-v_pec) #calculate VLSR\n",
    "    return v_LSR"
   ]
  },
  {
   "cell_type": "code",
   "execution_count": 3,
   "metadata": {},
   "outputs": [],
   "source": [
    "#Define distances \n",
    "R0Reid = 8.34*u.kpc # Distance is from Reid+2014 in kpc\n",
    "R0Gravity= 8.178*u.kpc # Distance from he GRAVITY collab Abuter+2019 in kpc\n",
    "R0SG= 7.9*u.kpc #Distance is from the textbook by Sparke and Gallagher"
   ]
  },
  {
   "cell_type": "code",
   "execution_count": 4,
   "metadata": {},
   "outputs": [
    {
     "name": "stdout",
     "output_type": "stream",
     "text": [
      "239.9320764 km / s\n"
     ]
    }
   ],
   "source": [
    "#Compute VLSR using R0 from Reid 2014\n",
    "VLSR_reid = VLSR(R0Reid)\n",
    "print(VLSR_reid)"
   ]
  },
  {
   "cell_type": "code",
   "execution_count": 5,
   "metadata": {},
   "outputs": [
    {
     "name": "stdout",
     "output_type": "stream",
     "text": [
      "235.03376988000002 km / s\n"
     ]
    }
   ],
   "source": [
    "#Compute VLSR using R0 from the GRAVITY collab\n",
    "VLSR_gravity=VLSR(R0Gravity)\n",
    "print(VLSR_gravity)"
   ]
  },
  {
   "cell_type": "code",
   "execution_count": 6,
   "metadata": {},
   "outputs": [
    {
     "name": "stdout",
     "output_type": "stream",
     "text": [
      "226.628034 km / s\n"
     ]
    }
   ],
   "source": [
    "#Compute VLSR using R0 from Sparke and Gallagher\n",
    "VLSR_SG = VLSR(R0SG)\n",
    "print(VLSR_SG)"
   ]
  },
  {
   "cell_type": "markdown",
   "metadata": {},
   "source": [
    "### b)\n",
    "\n",
    "compute the orbital period of the sun in Gyr using R$_o$ from the GRAVITY Collaboration (assume circular orbit)\n",
    "\n",
    "Note that 1 km/s $\\sim$ 1kpc/Gyr"
   ]
  },
  {
   "cell_type": "code",
   "execution_count": 7,
   "metadata": {},
   "outputs": [],
   "source": [
    "def TorbSun(R,V):\n",
    "    ''' This function will compute the orbital period of the sun\n",
    "                    T= 2pi R/ V\n",
    "        inputs: \n",
    "            R: \"astropy quantity\"\n",
    "                Distance in kpc (distance to the galactic center)\n",
    "            V: \"astropy quantity\"\n",
    "                velocity in km/s (velocity of the sun in v direction)\n",
    "        output:\n",
    "            \"astropy quantity\"\n",
    "            Orbital period in Gyr\n",
    "    '''\n",
    "    VkpcGyr = V.to(u.kpc/u.Gyr) # converting v from km/s to kpc/Gyr\n",
    "    T=2*np.pi*R/VkpcGyr #orbital period\n",
    "    return T"
   ]
  },
  {
   "cell_type": "code",
   "execution_count": 8,
   "metadata": {},
   "outputs": [],
   "source": [
    "#vsun = VLSR + peculiar motion\n",
    "Vsunpeculiar = 12.24*u.km/u.s\n",
    "VSun= VLSR_gravity+Vsunpeculiar"
   ]
  },
  {
   "cell_type": "code",
   "execution_count": 9,
   "metadata": {},
   "outputs": [
    {
     "name": "stdout",
     "output_type": "stream",
     "text": [
      "0.20318680562272234 Gyr\n"
     ]
    }
   ],
   "source": [
    "#Compute the orbital period of the sun using R0 from the Gravity Collab\n",
    "T_grav= TorbSun(R0Gravity,VSun)\n",
    "print(T_grav)"
   ]
  },
  {
   "cell_type": "markdown",
   "metadata": {},
   "source": [
    "### c)\n",
    "\n",
    "Compute the number of rotations about the GC over the age of the universe (13.8 Gyr)"
   ]
  },
  {
   "cell_type": "code",
   "execution_count": 10,
   "metadata": {},
   "outputs": [
    {
     "name": "stdout",
     "output_type": "stream",
     "text": [
      "67.91779593023313\n"
     ]
    }
   ],
   "source": [
    "#Age of universe / orbital period\n",
    "\n",
    "Age = 13.8 *u.Gyr\n",
    "print(Age/T_grav)"
   ]
  },
  {
   "cell_type": "markdown",
   "metadata": {},
   "source": [
    "## Part B  Dark Matter Density Profiles\n",
    "\n",
    "### a)\n",
    "Try out Fitting Rotation Curves \n",
    "[here](http://wittman.physics.ucdavis.edu/Animations/RotationCurve/GalacticRotation.html)\n",
    "\n",
    "\n",
    "### b)\n",
    "\n",
    "\n",
    "In the Isothermal Sphere model, what is the mass enclosed within the solar radius (R$_o$) in units of M$_\\odot$? \n",
    "\n",
    "Recall that for the Isothermal sphere :\n",
    "$\\rho(r) = \\frac{V_{LSR}^2}{4\\pi G r^2}$\n",
    "\n",
    "Where $G$ = 4.4985e-6 kpc$^3$/Gyr$^2$/M$_\\odot$, r is in kpc and $V_{LSR}$ is in km/s\n",
    "\n",
    "What about at 260 kpc (in units of  M$_\\odot$) ? "
   ]
  },
  {
   "cell_type": "code",
   "execution_count": 27,
   "metadata": {},
   "outputs": [],
   "source": [
    "#gravitational constant in desired units\n",
    "grav= const.G.to(u.kpc**3/u.Gyr**2/u.Msun)"
   ]
  },
  {
   "cell_type": "code",
   "execution_count": 12,
   "metadata": {},
   "outputs": [],
   "source": [
    "# density profile rho = VLSR^2 / (4pi G r^2)\n",
    "#mass = Integrate rho dV = rho 4pi r^2 dr = VLSR^2/(4pi G r^2) * 4pi r^2 dr = VLSR^2/G *r once integrated\n",
    "\n",
    "def massiso(r,VLSR):\n",
    "    ''' This function will compute the dark matter mass enclosed within a given distance assuming \n",
    "        an isothermal sphere model for the dark matter.\n",
    "        \n",
    "        Inputs:\n",
    "            r: 'astropy quantity'\n",
    "                Distance to the galactic center (kpc)\n",
    "            VLSR: 'astropy quantity'\n",
    "                velocity of the local standard of rest (km/s)\n",
    "        Outputs:\n",
    "            M: mass enclosed within r in units of Msun\n",
    "    '''\n",
    "    vlsrkpcgyr = VLSR.to(u.kpc/u.Gyr)\n",
    "    \n",
    "    M= vlsrkpcgyr**2 / grav * r #mass for isothermal sphere\n",
    "    return M\n"
   ]
  },
  {
   "cell_type": "code",
   "execution_count": 13,
   "metadata": {},
   "outputs": [
    {
     "name": "stdout",
     "output_type": "stream",
     "text": [
      "105038025820.79904 solMass\n"
     ]
    }
   ],
   "source": [
    "MisoSolar= massiso(R0Gravity,VLSR_gravity)\n",
    "print(MisoSolar)"
   ]
  },
  {
   "cell_type": "code",
   "execution_count": 14,
   "metadata": {},
   "outputs": [
    {
     "name": "stdout",
     "output_type": "stream",
     "text": [
      "1.05e+11 solMass\n"
     ]
    }
   ],
   "source": [
    "print(f'{MisoSolar:.2e}')"
   ]
  },
  {
   "cell_type": "code",
   "execution_count": 15,
   "metadata": {},
   "outputs": [
    {
     "name": "stdout",
     "output_type": "stream",
     "text": [
      "3.34e+12 solMass\n"
     ]
    }
   ],
   "source": [
    "Miso260= massiso(260*u.kpc,VLSR_gravity)\n",
    "print(f'{Miso260:.2e}')"
   ]
  },
  {
   "cell_type": "markdown",
   "metadata": {},
   "source": [
    "\n",
    "\n",
    "## c) \n",
    "\n",
    "The Leo I satellite is one of the fastest moving satellite galaxies we know. \n",
    "\n",
    "\n",
    "It is moving with 3D velocity of magnitude: Vtot = 196 km/s at a distance of 260 kpc (Sohn 2013 ApJ 768)\n",
    "\n",
    "If we assume that Leo I is moving at the escape speed:\n",
    "\n",
    "$v_{esc}^2 = 2|\\Phi| = 2 \\int G \\frac{\\rho(r)}{r}dV $ \n",
    "\n",
    "and assuming the Milky Way is well modeled by a Hernquist Sphere with a scale radius of $a$= 30 kpc, what is the minimum mass of the Milky Way (in units of M$_\\odot$) ?  \n",
    "\n",
    "How does this compare to estimates of the mass assuming the Isothermal Sphere model at 260 kpc (from your answer above)"
   ]
  },
  {
   "cell_type": "code",
   "execution_count": 32,
   "metadata": {},
   "outputs": [],
   "source": [
    "# potential for Hernquist Profile: Phi = 0G*M/(r+a)\n",
    "# Using the potential for a Hernquist Profile, escape speed becomes: \n",
    "# v_esc^2 = 2*G*M/(R+a) : solve for M since that is the unknown.\n",
    "#M= v_esc^2 / 2G *(r+a)\n",
    "\n",
    "def MassFromVesc(vesc,r,a):\n",
    "    '''\n",
    "    This function determines the total mass needed for a given escape speed assuming a Hernquist Profile for the\n",
    "    dark matter halo\n",
    "    M= v_esc^2 / 2G *(r+a)\n",
    "    \n",
    "    Inputs:\n",
    "        vesc: 'astropy quantity'\n",
    "            escape speed in km/s (speed of the satellite)\n",
    "        r: 'astropy quantity'\n",
    "            The distance from the galactic center (kpc)\n",
    "        a: 'astropy quantity'\n",
    "            The Hernquist scale length (kpc)\n",
    "            \n",
    "    outputs:\n",
    "        M: 'astropy quantity'\n",
    "            Total mass within r in units of Msun\n",
    "    '''\n",
    "    vescKpcGyr = vesc.to(u.kpc/u.Gyr) # converting velocity to kpc/Gyr\n",
    "    \n",
    "    M= (vescKpcGyr**2)*(r+a)/(2*grav) #required mass\n",
    "    \n",
    "    return M"
   ]
  },
  {
   "cell_type": "code",
   "execution_count": 33,
   "metadata": {},
   "outputs": [],
   "source": [
    "VLeoI= 196*u.km/u.s # speed of Leo I from Sohn 2013\n",
    "a = 30*u.kpc # scale radius for the Hernquist Halo\n",
    "r= 260*u.kpc #galactocentric distance of Leo I"
   ]
  },
  {
   "cell_type": "code",
   "execution_count": 34,
   "metadata": {},
   "outputs": [
    {
     "name": "stdout",
     "output_type": "stream",
     "text": [
      "1295146976857.1042 solMass\n"
     ]
    }
   ],
   "source": [
    "#compute mass needed to keep Leo I bound\n",
    "MLeoI=MassFromVesc(VLeoI,r,a)\n",
    "print(MLeoI)"
   ]
  },
  {
   "cell_type": "code",
   "execution_count": 35,
   "metadata": {},
   "outputs": [
    {
     "name": "stdout",
     "output_type": "stream",
     "text": [
      "1.30e+12 solMass\n"
     ]
    }
   ],
   "source": [
    "print(f'{MLeoI:.2e}')"
   ]
  },
  {
   "cell_type": "code",
   "execution_count": 36,
   "metadata": {},
   "outputs": [
    {
     "data": {
      "text/latex": [
       "$2.5784204 \\; \\mathrm{}$"
      ],
      "text/plain": [
       "<Quantity 2.57842045>"
      ]
     },
     "execution_count": 36,
     "metadata": {},
     "output_type": "execute_result"
    }
   ],
   "source": [
    "Miso260/MLeoI"
   ]
  }
 ],
 "metadata": {
  "kernelspec": {
   "display_name": "Python 3",
   "language": "python",
   "name": "python3"
  },
  "language_info": {
   "codemirror_mode": {
    "name": "ipython",
    "version": 3
   },
   "file_extension": ".py",
   "mimetype": "text/x-python",
   "name": "python",
   "nbconvert_exporter": "python",
   "pygments_lexer": "ipython3",
   "version": "3.8.5"
  }
 },
 "nbformat": 4,
 "nbformat_minor": 2
}
