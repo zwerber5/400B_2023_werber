{
 "cells": [
  {
   "cell_type": "code",
   "execution_count": 1,
   "metadata": {},
   "outputs": [],
   "source": [
    "# In Class Lab 3\n",
    "# G. Besla \n",
    "\n",
    "# import relevant modules \n",
    "import astropy.units as u\n",
    "import numpy as np\n",
    "from astropy import constants as const # import astropy constants"
   ]
  },
  {
   "cell_type": "markdown",
   "metadata": {},
   "source": [
    "The Large Magellanic Cloud is at a distance of 50 kpc from the Galactic Center. \n",
    "It is observed to have a stellar disk that extends to a radius of at least 18.5 kpc.\n",
    "\n",
    "![LMC](./Lab3_Tidal.png)\n",
    "Deep photometric imaging reveals the faint stellar outskirts of the LMC. \n",
    "Outskirts: DECam data Mackey+2016 MNRAS 459, 239. \n",
    "Inner: shallower imaging from robotic telescopes Besla+2016 APJ 825.\n",
    "\n",
    "In this lab we will determine\n",
    "the minimum mass required for the LMC so that it maintains the observed radius \n",
    "in the face of the Milky Way's tidal field. "
   ]
  },
  {
   "cell_type": "markdown",
   "metadata": {},
   "source": [
    "# Part A\n",
    "\n",
    "We define the mass profile of the Milky Way using a Hernquist profile.\n",
    "\n",
    "\n",
    "$\\rho(r) =  \\frac{M_{halo}}{2\\pi} \\frac{a}{r(r+a)^3} \\qquad M(r) =  \\frac{M_{halo} r^2}{(a+r)^2}$ \n",
    "\n"
   ]
  },
  {
   "cell_type": "markdown",
   "metadata": {},
   "source": [
    "## #1\n",
    "\n",
    "Create a function `hernquist_mass` that returns the dark matter halo mass at a given radius in units of solar mass.\n",
    "This function should take as input:  the distance from the Galactic center $r$, the scale radius $a$, and the halo mass $M_{halo}$.\n",
    "\n",
    "\n",
    "For the Hernquist scale radius for the Milky Way, use the default value of $a=60$ kpc. \n",
    "\n",
    "For $M_{halo}$ use your answer for the total mass of the simulated Milky Way you computed in Homework 3 as the default value (in units of 1e12). "
   ]
  },
  {
   "cell_type": "code",
   "execution_count": 6,
   "metadata": {},
   "outputs": [],
   "source": [
    "def hernquist_mass(r,a=60*u.kpc,MHalo=1.975*u.Msun):\n",
    "    '''\n",
    "    This function finds the dark matter halo mass for a given radius r based on the Hernquist profile\n",
    "    \n",
    "    \n",
    "    Inputs\n",
    "        r: astropy quantity\n",
    "            This is the distance from the galactic center in units of kpc\n",
    "        a: astropy quantity\n",
    "            This is the scale radius for the Hernquist profile. The default value is 60 kpc for the Milky Way\n",
    "        MHalo: astropy quantity\n",
    "            The total dark matter halo mass in units of 10^12 Msun. Default value is that from HW3\n",
    "    returns\n",
    "        hern_mass: astropy quantity\n",
    "            The dark matter halo mass at a given radius in units of MSun\n",
    "    '''\n",
    "    hern_mass = (MHalo*1e12) * r**2 / (a+r)**2\n",
    "    return hern_mass\n",
    "    "
   ]
  },
  {
   "cell_type": "code",
   "execution_count": 7,
   "metadata": {},
   "outputs": [
    {
     "name": "stdout",
     "output_type": "stream",
     "text": [
      "1.95e+12 solMass\n"
     ]
    }
   ],
   "source": [
    "# compute mass within 10000 kpc\n",
    "print(f\"{hernquist_mass(10000*u.kpc):.2e}\")"
   ]
  },
  {
   "cell_type": "code",
   "execution_count": 8,
   "metadata": {},
   "outputs": [
    {
     "name": "stdout",
     "output_type": "stream",
     "text": [
      "1.37e+12 solMass\n"
     ]
    }
   ],
   "source": [
    "# compute mass within 300 kpc\n",
    "print(f\"{hernquist_mass(300*u.kpc):.2e}\")"
   ]
  },
  {
   "cell_type": "markdown",
   "metadata": {},
   "source": [
    "## #2\n",
    "\n",
    "Compute the total mass of the Milky Way within 50 kpc, including its baryonic components (Dark Matter + Bulge + Disk). Use your answers from Homework 3 for the Bulge and Disk Masses. \n",
    "Store this as a variable called `mass_MW50`.\n"
   ]
  },
  {
   "cell_type": "code",
   "execution_count": 9,
   "metadata": {},
   "outputs": [
    {
     "name": "stdout",
     "output_type": "stream",
     "text": [
      "4.93e+11 solMass\n"
     ]
    }
   ],
   "source": [
    "bulge_mass = .01*1e12 *u.Msun #bulge mass in MSun based on HW3\n",
    "disk_mass = .075*1e12 *u.Msun #disk mass in MSun based on HW3\n",
    "dm_mass= hernquist_mass(r=50*u.kpc) \n",
    "mass_MW50 = bulge_mass+disk_mass+dm_mass\n",
    "print(f\"{mass_MW50:.2e}\")\n",
    "    "
   ]
  },
  {
   "cell_type": "markdown",
   "metadata": {},
   "source": [
    "# Part B\n",
    "\n",
    "The Jacobi Radius for a satellite on a circular orbit about an extended host, where \n",
    "the host is assumed to be well modeled as an isothermal sphere halo:\n",
    "\n",
    "\n",
    "$R_j = r  \\bigg( \\frac{M_{sat}}{2 M_{host}(<r)} \\bigg)^{1/3}$\n",
    "\n",
    "\n",
    "The Isothermal Sphere approximation is not a bad one within 50 kpc.\n",
    "\n",
    "Note also that the LMC is not on a circular orbit, but it is very close to its pericentric approach, where the velocity is all in the tangential component. So this isn't a terrible approximation either. \n",
    "\n",
    "## #1\n",
    "Create a function called `jacobi_mass` that returns the total mass of a satellite galaxy in units of Msun, \n",
    "such that it has a given size \n",
    "\n",
    "Do this by rearranging the Jacobi Radius equation to solve for the satellite mass. \n"
   ]
  },
  {
   "cell_type": "code",
   "execution_count": 10,
   "metadata": {},
   "outputs": [],
   "source": [
    "def jacobi_mass(R_jacobi,r,MHost):\n",
    "    '''\n",
    "    This function determines the mass of a satellite based on the host \n",
    "    galaxy's mass and the satellite's orbital radius\n",
    "    \n",
    "    Inputs\n",
    "        R_Jacobi: astropy quantity\n",
    "            The radius of the satellite galaxy in kpc\n",
    "        r: astropy quantity\n",
    "            the distance in kpc between the host and satellite galaxy\n",
    "        MHost: astropy quantity\n",
    "            The mass of the host galaxy in units of Msun\n",
    "            \n",
    "    returns\n",
    "        m_sat: astropy quantity\n",
    "            minimum mass of the satellite galaxy\n",
    "    '''\n",
    "    M_sat= 2*MHost*(R_jacobi/r)**3\n",
    "    return M_sat"
   ]
  },
  {
   "cell_type": "markdown",
   "metadata": {},
   "source": [
    "## #2 \n",
    "\n",
    "Determine the minimum total mass of the LMC needed to maintain its radius of 18.5 kpc in the face of the Milky Way's tidal \n",
    "field at its current distance of 50 kpc. Store this as a variable called `LMC_jacobiM`."
   ]
  },
  {
   "cell_type": "code",
   "execution_count": 11,
   "metadata": {},
   "outputs": [
    {
     "name": "stdout",
     "output_type": "stream",
     "text": [
      "4.99e+10 solMass\n"
     ]
    }
   ],
   "source": [
    "LMC_jacobiM = jacobi_mass(18.5*u.kpc,50*u.kpc,mass_MW50)\n",
    "print(f'{LMC_jacobiM:.2e}')"
   ]
  },
  {
   "cell_type": "markdown",
   "metadata": {},
   "source": [
    "## #3\n",
    "\n",
    "Recall that, ignoring centrifugal forces and assuming the host is a point mass, the tidal radius is given as :\n",
    "\n",
    "$r_{tide} = r\\left (\\frac{m_{sat}}{4M_{host} } \\right)^{1/3} $\n",
    "\n",
    "Create a function to determine the total mass the must LMC possess to have a disk with radius 18.5 kpc.\n",
    "\n",
    "The function should take as input, the current size of the satellite (kpc), this distance to the host (kpc) and the mass of the host (in Msun)\n",
    "\n",
    "Use the function to determine the needed LMC mass and store it as a variable called `LMC_tidalM`. "
   ]
  },
  {
   "cell_type": "code",
   "execution_count": 12,
   "metadata": {},
   "outputs": [
    {
     "name": "stdout",
     "output_type": "stream",
     "text": [
      "9.99e+10 solMass\n"
     ]
    }
   ],
   "source": [
    "def jacobi_tidal(r_tide,r,MHost):\n",
    "    '''\n",
    "    This function determines the minimum mass needed to maintain a satellite based on the host \n",
    "    galaxy's mass and the satellite's tidal radius\n",
    "    \n",
    "    Inputs\n",
    "        R_tide: astropy quantity\n",
    "            The tidal radius of the satellite galaxy in kpc\n",
    "        r: astropy quantity\n",
    "            the distance in kpc between the host and satellite galaxy\n",
    "        MHost: astropy quantity\n",
    "            The mass of the host galaxy in units of Msun\n",
    "    '''\n",
    "    M_min= 4*MHost*(r_tide/r)**3\n",
    "    return M_min\n",
    "\n",
    "LMC_tidalM= jacobi_tidal(18.5*u.kpc,50*u.kpc,mass_MW50)\n",
    "print(f'{LMC_tidalM:.2e}')"
   ]
  },
  {
   "cell_type": "markdown",
   "metadata": {},
   "source": [
    "## #4\n",
    "\n",
    "a) Compare `LMC_tidalM` to the calculation using the Jacobi Radius.\n",
    "\n",
    "b)How does the total mass of the LMC compare to its stellar mass (M$_\\ast = 3 \\times 10^9$ M$_\\odot$)? \n"
   ]
  },
  {
   "cell_type": "code",
   "execution_count": 13,
   "metadata": {},
   "outputs": [
    {
     "name": "stdout",
     "output_type": "stream",
     "text": [
      "2.0\n"
     ]
    }
   ],
   "source": [
    "print(LMC_tidalM/LMC_jacobiM) #tidalM is double the mass based on the jacobi radius"
   ]
  },
  {
   "cell_type": "code",
   "execution_count": 14,
   "metadata": {},
   "outputs": [
    {
     "name": "stdout",
     "output_type": "stream",
     "text": [
      "16.649906225895318\n"
     ]
    }
   ],
   "source": [
    "print(LMC_jacobiM/(3e9*u.Msun)) # total mass is roughly 16.6 times higher than the stellar mass"
   ]
  },
  {
   "cell_type": "markdown",
   "metadata": {
    "collapsed": true
   },
   "source": [
    "# Part C: Consistency Check\n",
    "\n",
    "\n",
    "The dynamical mass of the LMC at any radius can be determined by assuming a flat rotation curve.  \"Dynamical mass\" means mass needed to explain the rotation curve. \n",
    "\n",
    "$V_c^2 = \\frac{G M}{r} = constant$\n",
    " \n",
    " The rotation curve of the LMC is observed to flatten at a value of 91.7 +/- 18.8 km/s  (van der Marel & Kallivayalil 2014 ApJ 781)\n",
    "\n",
    "  \n",
    "   Create a function called `dyn_mass` that takes as input Vc (km/s) and distance to from the center of the galaxy (r) and returns the maximal dynamical mass in Msun. \n",
    " \n",
    "$G$ = 4.4985e-6 kpc$^3$/Gyr$^2$/M$_\\odot$"
   ]
  },
  {
   "cell_type": "code",
   "execution_count": null,
   "metadata": {
    "collapsed": true
   },
   "outputs": [],
   "source": []
  },
  {
   "cell_type": "markdown",
   "metadata": {},
   "source": [
    "  \n",
    "## #1  \n",
    "Compute the dynamical mass enclosed by the LMC within the observed radius. Store it as a variable called `LMC_dynM`. "
   ]
  },
  {
   "cell_type": "code",
   "execution_count": null,
   "metadata": {
    "collapsed": true
   },
   "outputs": [],
   "source": []
  },
  {
   "cell_type": "markdown",
   "metadata": {},
   "source": [
    "## #2\n",
    "\n",
    "Is `LMC_dynM` consistent with `LMC_jacobiM`, the minimum mass needed to explain the observed radius of the LMC given the tidal field of the MW? If not, how can the numbers be reconciled?"
   ]
  },
  {
   "cell_type": "code",
   "execution_count": null,
   "metadata": {
    "collapsed": true
   },
   "outputs": [],
   "source": []
  }
 ],
 "metadata": {
  "kernelspec": {
   "display_name": "Python 3",
   "language": "python",
   "name": "python3"
  },
  "language_info": {
   "codemirror_mode": {
    "name": "ipython",
    "version": 3
   },
   "file_extension": ".py",
   "mimetype": "text/x-python",
   "name": "python",
   "nbconvert_exporter": "python",
   "pygments_lexer": "ipython3",
   "version": "3.8.5"
  }
 },
 "nbformat": 4,
 "nbformat_minor": 2
}
